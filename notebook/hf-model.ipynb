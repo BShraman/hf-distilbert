{
 "cells": [
  {
   "cell_type": "code",
   "execution_count": 6,
   "id": "adb4a3df-7c94-4812-9ea9-665c8406b3ad",
   "metadata": {},
   "outputs": [
    {
     "name": "stdout",
     "output_type": "stream",
     "text": [
      "total 0\n",
      "drwxr-xr-x 9 root root 288 May 21 01:01 distilbert-base-uncased-finetuned-sst-2-english\n"
     ]
    }
   ],
   "source": [
    "! ls -ltr /model"
   ]
  },
  {
   "cell_type": "code",
   "execution_count": 10,
   "id": "223fee86-056a-4d93-a509-e5d4ee00a2c7",
   "metadata": {},
   "outputs": [],
   "source": [
    "#email_text = \"This is a legitimate email regarding your recent purchase.\"\n",
    "email_text = \"Subject: hpl nom for january 9 , 2001 ( see attached file : hplnol 09 . xls ) - hplnol 09 . xls\"\n",
    "model_dir = \"/model/distilbert-base-uncased-finetuned-sst-2-english\""
   ]
  },
  {
   "cell_type": "code",
   "execution_count": 11,
   "id": "574519b3-08cc-48c4-8557-ddfa19ffc916",
   "metadata": {},
   "outputs": [],
   "source": [
    "from transformers import DistilBertForSequenceClassification, DistilBertTokenizer\n",
    "\n",
    "def classify_email(email_text, model_dir):\n",
    "    # Load the saved model\n",
    "    model = DistilBertForSequenceClassification.from_pretrained(model_dir)\n",
    "\n",
    "    # Load the tokenizer\n",
    "    tokenizer = DistilBertTokenizer.from_pretrained(checkpoint)\n",
    "\n",
    "    # Tokenize the email text\n",
    "    inputs = tokenizer(email_text, return_tensors=\"pt\")\n",
    "\n",
    "    # Make predictions\n",
    "    outputs = model(**inputs)\n",
    "\n",
    "    # Interpret the output\n",
    "    predicted_label = \"spam\" if outputs.logits[0][1] > outputs.logits[0][0] else \"ham\"\n",
    "\n",
    "    return predicted_label"
   ]
  },
  {
   "cell_type": "code",
   "execution_count": 12,
   "id": "eb6e18c3-c4f0-47d4-926e-13215583c6d7",
   "metadata": {},
   "outputs": [
    {
     "data": {
      "application/vnd.jupyter.widget-view+json": {
       "model_id": "4fbdc1702c5043c3964743f2661159ef",
       "version_major": 2,
       "version_minor": 0
      },
      "text/plain": [
       "tokenizer_config.json:   0%|          | 0.00/48.0 [00:00<?, ?B/s]"
      ]
     },
     "metadata": {},
     "output_type": "display_data"
    },
    {
     "data": {
      "application/vnd.jupyter.widget-view+json": {
       "model_id": "a59e15166d0e411597259d41ecfe9757",
       "version_major": 2,
       "version_minor": 0
      },
      "text/plain": [
       "vocab.txt:   0%|          | 0.00/232k [00:00<?, ?B/s]"
      ]
     },
     "metadata": {},
     "output_type": "display_data"
    },
    {
     "name": "stderr",
     "output_type": "stream",
     "text": [
      "/usr/local/lib/python3.12/site-packages/huggingface_hub/file_download.py:1132: FutureWarning: `resume_download` is deprecated and will be removed in version 1.0.0. Downloads always resume when possible. If you want to force a new download, use `force_download=True`.\n",
      "  warnings.warn(\n"
     ]
    },
    {
     "data": {
      "application/vnd.jupyter.widget-view+json": {
       "model_id": "c861974d8a2b4e148a6c971a1da8d92c",
       "version_major": 2,
       "version_minor": 0
      },
      "text/plain": [
       "config.json:   0%|          | 0.00/629 [00:00<?, ?B/s]"
      ]
     },
     "metadata": {},
     "output_type": "display_data"
    }
   ],
   "source": [
    "checkpoint = \"distilbert-base-uncased-finetuned-sst-2-english\"\n",
    "prediction = classify_email(email_text, model_dir)"
   ]
  },
  {
   "cell_type": "code",
   "execution_count": 13,
   "id": "2f35d5ec-7d99-4c4c-b86a-7e15e33ff3df",
   "metadata": {},
   "outputs": [
    {
     "name": "stdout",
     "output_type": "stream",
     "text": [
      "Predicted Label: ham\n"
     ]
    }
   ],
   "source": [
    "print(\"Predicted Label:\", prediction)"
   ]
  },
  {
   "cell_type": "code",
   "execution_count": null,
   "id": "be64a5e7-16bc-4d7c-be5a-7e3ff7f25e6b",
   "metadata": {},
   "outputs": [],
   "source": []
  }
 ],
 "metadata": {
  "kernelspec": {
   "display_name": "Python 3 (ipykernel)",
   "language": "python",
   "name": "python3"
  },
  "language_info": {
   "codemirror_mode": {
    "name": "ipython",
    "version": 3
   },
   "file_extension": ".py",
   "mimetype": "text/x-python",
   "name": "python",
   "nbconvert_exporter": "python",
   "pygments_lexer": "ipython3",
   "version": "3.12.2"
  }
 },
 "nbformat": 4,
 "nbformat_minor": 5
}
